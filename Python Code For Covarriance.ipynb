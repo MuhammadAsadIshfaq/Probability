{
 "cells": [
  {
   "cell_type": "code",
   "execution_count": 24,
   "id": "acc7ab08",
   "metadata": {},
   "outputs": [
    {
     "name": "stdout",
     "output_type": "stream",
     "text": [
      "Expected Value of T is : 96.56099999999999\n",
      "Expected Value of H is : 16.634600000000006\n",
      "Variance of T is : 34.053279000003386\n",
      "Variance of H is : 2.495482839999795 \n"
     ]
    }
   ],
   "source": [
    "T = [95, 96, 97, 98, 99, 100, 101]\n",
    "\n",
    "p_TH = [[0.01, 0.01, 0.03, 0.1, 0.04, 0.008, 0.0005],\n",
    "        [0.02, 0.01, 0.07, 0.07, 0.08, 0.007, 0.0006],\n",
    "        [0.002, 0.02, 0.05, 0.1, 0.07, 0.004, 0.0001],\n",
    "        [0.0005, 0.02, 0.04, 0.005, 0.06, 0.005, 0.0008],\n",
    "        [0.001, 0.0001, 0.01, 0.07, 0.0005, 0.0004, 0.0004],\n",
    "        [0.06, 0.0001, 0.01, 0.01, 0.002, 0.001, 0.001]]\n",
    "\n",
    "H = [14, 15, 16, 17, 18, 19]\n",
    "\n",
    "E_T = 0\n",
    "E_H = 0\n",
    "E_T2 = 0\n",
    "E_H2 = 0\n",
    "Var_T = 0\n",
    "Var_H = 0\n",
    "\n",
    "for i in range(len(p_TH)):\n",
    "    for j in range(len(p_TH)):\n",
    "        # Calculation of EV of T and H\n",
    "        E_T += T[i] * p_TH[i][j]\n",
    "        E_H += H[j] * p_TH[i][j]\n",
    "        # Calculation of EV of T^2 and H^2\n",
    "        E_T2 += T[i]**2 * p_TH[i][j]\n",
    "        E_H2 += H[j]**2 * p_TH[i][j]\n",
    "        \n",
    "# Calculation of Variance of T and H\n",
    "\n",
    "Var_T = E_T2 - E_T**2\n",
    "Var_H = E_H2 - E_H**2\n",
    "        \n",
    "print(f\"Expected Value of T is : {E_T}\")\n",
    "print(f\"Expected Value of H is : {E_H}\")\n",
    "print(f\"Variance of T is : {Var_T}\")\n",
    "print(f\"Variance of H is : {Var_H} \")"
   ]
  },
  {
   "cell_type": "code",
   "execution_count": 44,
   "id": "8567ff04",
   "metadata": {},
   "outputs": [
    {
     "name": "stdout",
     "output_type": "stream",
     "text": [
      "Expected Value of T is : 96.56099999999999\n",
      "Expected Value of H is : 16.634600000000006\n",
      "Expected Value of TH is : 1611.2099\n",
      "Covariance is : 4.956289399999605\n"
     ]
    }
   ],
   "source": [
    "# Code To Calculate Covarriance\n",
    "T = [95, 96, 97, 98, 99, 100, 101]\n",
    "H = [14, 15, 16, 17, 18, 19]\n",
    "\n",
    "p_TH = [[0.01, 0.01, 0.03, 0.1, 0.04, 0.008, 0.0005],\n",
    "        [0.02, 0.01, 0.07, 0.07, 0.08, 0.007, 0.0006],\n",
    "        [0.002, 0.02, 0.05, 0.1, 0.07, 0.004, 0.0001],\n",
    "        [0.0005, 0.02, 0.04, 0.005, 0.06, 0.005, 0.0008],\n",
    "        [0.001, 0.0001, 0.01, 0.07, 0.0005, 0.0004, 0.0004],\n",
    "        [0.06, 0.0001, 0.01, 0.01, 0.002, 0.001, 0.001]]\n",
    "\n",
    "E_T = 0\n",
    "E_H = 0\n",
    "E_TH = 0\n",
    "Cov_TH = 0\n",
    "\n",
    "for i in range(len(p_TH)):\n",
    "     for j in range(len(p_TH)):\n",
    "        # Calculation of EV of T and H\n",
    "        E_T += T[i] * p_TH[i][j]\n",
    "        E_H += H[j] * p_TH[i][j]\n",
    "        # Calculation of EV of TH\n",
    "        E_TH += T[i] * H[j] * p_TH[i][j]\n",
    "\n",
    "    \n",
    "# Calculation of Covariance\n",
    "Cov_TH = E_TH - E_T * E_H\n",
    "\n",
    "\n",
    "print(f\"Expected Value of T is : {E_T}\")\n",
    "print(f\"Expected Value of H is : {E_H}\")\n",
    "print(f\"Expected Value of TH is : {E_TH}\")\n",
    "print(f\"Covariance is : {Cov_TH}\")"
   ]
  },
  {
   "cell_type": "code",
   "execution_count": null,
   "id": "62d977a9",
   "metadata": {},
   "outputs": [],
   "source": []
  },
  {
   "cell_type": "code",
   "execution_count": null,
   "id": "5f05355f",
   "metadata": {},
   "outputs": [],
   "source": []
  }
 ],
 "metadata": {
  "kernelspec": {
   "display_name": "Python 3 (ipykernel)",
   "language": "python",
   "name": "python3"
  },
  "language_info": {
   "codemirror_mode": {
    "name": "ipython",
    "version": 3
   },
   "file_extension": ".py",
   "mimetype": "text/x-python",
   "name": "python",
   "nbconvert_exporter": "python",
   "pygments_lexer": "ipython3",
   "version": "3.9.7"
  }
 },
 "nbformat": 4,
 "nbformat_minor": 5
}
