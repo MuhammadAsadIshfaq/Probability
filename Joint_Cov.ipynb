{
 "cells": [
  {
   "cell_type": "code",
   "execution_count": 3,
   "id": "b1fbe038",
   "metadata": {},
   "outputs": [],
   "source": [
    "data = {14:{95:0.01,96:0.01,97:0.03,98:0.1,99:0.04,100:0.008,101:0.0005},\n",
    "15:{95:0.02,96:0.01,97:0.07,98:0.07,99:0.08,100:0.007,101:0.0006},\n",
    "16:{95:0.002,96:0.02,97:0.05,98:0.1,99:0.07,100:0.004,101:0.0001},\n",
    "17:{95:0.0005,96:0.02,97:0.04,98:0.005,99:0.06,100:0.005,101:0.0008},\n",
    "18:{95:0.001,96:0.0001,97:0.01,98:0.07,99:0.0005,100:0.0004,101:0.0004},\n",
    "19:{95:0.06,96:0.0001,97:0.01,98:0.01,99:0.002,100:0.001,101:0.001}}"
   ]
  },
  {
   "cell_type": "code",
   "execution_count": 4,
   "id": "5b3688d4",
   "metadata": {},
   "outputs": [
    {
     "name": "stdout",
     "output_type": "stream",
     "text": [
      "Excepted temprature:  [8.8825, 5.7792, 20.370000000000005, 34.790000000000006, 24.9975, 2.54, 0.34340000000000004]\n",
      "Probability temprature:  [0.0935, 0.060200000000000004, 0.21000000000000005, 0.35500000000000004, 0.2525, 0.025400000000000002, 0.0034000000000000002]\n"
     ]
    }
   ],
   "source": [
    "temp = [95,96,97,98,99,100,101]\n",
    "result = []\n",
    "probability = []\n",
    "for i in temp:\n",
    "    s = 0\n",
    "    for p in data.values():\n",
    "         s += p.get(i)\n",
    "    result.append(s * i)\n",
    "    probability.append(s)\n",
    "print(\"Excepted temprature: \",res)\n",
    "print(\"Probability temprature: \",prb)"
   ]
  },
  {
   "cell_type": "code",
   "execution_count": 4,
   "id": "58d63d48",
   "metadata": {},
   "outputs": [
    {
     "name": "stdout",
     "output_type": "stream",
     "text": [
      "97.70260000000002\n",
      "varience temprature:  [0.6829283720600091, 0.17451057495200373, 0.10366581960000537, 0.03139859979999618, 0.42501980689998814, 0.1340623877039979, 0.0369676789839996]\n",
      "sum variance temprature: 1.5885532400000002\n"
     ]
    }
   ],
   "source": [
    "expected_T=sum(res)\n",
    "print(expected_T)\n",
    "var_T = []\n",
    "for i in range(len(temp)):\n",
    "    var_T.append(prb[i] * ((temp[i] - expected_T)**2))\n",
    "print('varience temprature: ',var_T)\n",
    "Tol_T=sum(var_T)\n",
    "print('sum variance temprature:',Tol_T)"
   ]
  },
  {
   "cell_type": "code",
   "execution_count": 8,
   "id": "6973e0f8",
   "metadata": {},
   "outputs": [
    {
     "name": "stdout",
     "output_type": "stream",
     "text": [
      "Probability of homoglo:  [0.19850000000000004, 0.2576, 0.2461, 0.1313, 0.0824, 0.0841]\n",
      "Excepted  homoglobin :  [2.7790000000000004, 3.864, 3.9376, 2.2321, 1.4832, 1.5978999999999999]\n"
     ]
    }
   ],
   "source": [
    "a = []\n",
    "prob_h = []\n",
    "for key in data:\n",
    "    key_sum = sum(data[key].get(value, 0) for value in temp)\n",
    "    a.append(key)\n",
    "    prob_h.append(key_sum)\n",
    "result2 = []\n",
    "for i in range(len(a)):\n",
    "    result2.append(a[i] * prob_h[i])\n",
    "print(\"Probability of homoglo: \",prob_h)\n",
    "print(\"Excepted  homoglobin : \",result2)"
   ]
  },
  {
   "cell_type": "code",
   "execution_count": 10,
   "id": "e819ceb1",
   "metadata": {},
   "outputs": [
    {
     "name": "stdout",
     "output_type": "stream",
     "text": [
      "expected of homoglo 15.893799999999999\n"
     ]
    }
   ],
   "source": [
    "expected_h=sum(result2)\n",
    "print(\"expected of homoglo\",expected_h)"
   ]
  },
  {
   "cell_type": "code",
   "execution_count": 11,
   "id": "bd211682",
   "metadata": {},
   "outputs": [
    {
     "name": "stdout",
     "output_type": "stream",
     "text": [
      "variance  homoglobin:  [0.7119159703399993, 0.20579108614399944, 0.0027756240840000617, 0.16066897917200035, 0.3655328634560004, 0.8114370368040005]\n",
      "Sum varience homoglobin:  2.25812156\n"
     ]
    }
   ],
   "source": [
    "hb_level = [14,15,16,17,18,19]\n",
    "var_H = []\n",
    "for i in range(len(hb_level)):\n",
    "    var_H.append(prob_h[i] * (hb_level[i] - expected_h)**2)\n",
    "print('variance  homoglobin: ',var_H)\n",
    "total_H=sum(var_H)\n",
    "print('Sum varience homoglobin: ',total_H)"
   ]
  },
  {
   "cell_type": "code",
   "execution_count": 12,
   "id": "f73970ac",
   "metadata": {},
   "outputs": [
    {
     "name": "stdout",
     "output_type": "stream",
     "text": [
      "-0.512483880000218\n"
     ]
    }
   ],
   "source": [
    "Expected = []\n",
    "s = 0\n",
    "for i,j in data.items():\n",
    "    for k,h in j.items():\n",
    "        s += i*k*h\n",
    "    Expected.append(s)\n",
    "    s = 0\n",
    "total_E_TH = sum(Expected)\n",
    "covariance = total_E_TH - (expected_T * expected_h)\n",
    "print(covariance)\n"
   ]
  },
  {
   "cell_type": "code",
   "execution_count": null,
   "id": "4cee317d",
   "metadata": {},
   "outputs": [],
   "source": [
    "    "
   ]
  }
 ],
 "metadata": {
  "kernelspec": {
   "display_name": "Python 3 (ipykernel)",
   "language": "python",
   "name": "python3"
  },
  "language_info": {
   "codemirror_mode": {
    "name": "ipython",
    "version": 3
   },
   "file_extension": ".py",
   "mimetype": "text/x-python",
   "name": "python",
   "nbconvert_exporter": "python",
   "pygments_lexer": "ipython3",
   "version": "3.9.7"
  }
 },
 "nbformat": 4,
 "nbformat_minor": 5
}
