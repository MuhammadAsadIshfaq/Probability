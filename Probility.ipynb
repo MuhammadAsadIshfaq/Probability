{
 "cells": [
  {
   "cell_type": "code",
   "execution_count": 1,
   "id": "bf3f4c05",
   "metadata": {},
   "outputs": [],
   "source": [
    "import pandas as pd\n",
    "import numpy as np\n",
    "import matplotlib.pyplot as plt \n",
    "import scipy\n",
    "from scipy.stats import norm \n",
    "import statistics"
   ]
  },
  {
   "cell_type": "code",
   "execution_count": 2,
   "id": "51178ff2",
   "metadata": {},
   "outputs": [
    {
     "data": {
      "text/html": [
       "<div>\n",
       "<style scoped>\n",
       "    .dataframe tbody tr th:only-of-type {\n",
       "        vertical-align: middle;\n",
       "    }\n",
       "\n",
       "    .dataframe tbody tr th {\n",
       "        vertical-align: top;\n",
       "    }\n",
       "\n",
       "    .dataframe thead th {\n",
       "        text-align: right;\n",
       "    }\n",
       "</style>\n",
       "<table border=\"1\" class=\"dataframe\">\n",
       "  <thead>\n",
       "    <tr style=\"text-align: right;\">\n",
       "      <th></th>\n",
       "      <th>gender</th>\n",
       "      <th>age</th>\n",
       "      <th>hypertension</th>\n",
       "      <th>heart_disease</th>\n",
       "      <th>smoking_history</th>\n",
       "      <th>bmi</th>\n",
       "      <th>HbA1c_level</th>\n",
       "      <th>blood_glucose_level</th>\n",
       "      <th>diabetes</th>\n",
       "    </tr>\n",
       "  </thead>\n",
       "  <tbody>\n",
       "    <tr>\n",
       "      <th>0</th>\n",
       "      <td>Female</td>\n",
       "      <td>80.0</td>\n",
       "      <td>0</td>\n",
       "      <td>1</td>\n",
       "      <td>never</td>\n",
       "      <td>25.19</td>\n",
       "      <td>6.6</td>\n",
       "      <td>140</td>\n",
       "      <td>0</td>\n",
       "    </tr>\n",
       "    <tr>\n",
       "      <th>1</th>\n",
       "      <td>Female</td>\n",
       "      <td>54.0</td>\n",
       "      <td>0</td>\n",
       "      <td>0</td>\n",
       "      <td>No Info</td>\n",
       "      <td>27.32</td>\n",
       "      <td>6.6</td>\n",
       "      <td>80</td>\n",
       "      <td>0</td>\n",
       "    </tr>\n",
       "    <tr>\n",
       "      <th>2</th>\n",
       "      <td>Male</td>\n",
       "      <td>28.0</td>\n",
       "      <td>0</td>\n",
       "      <td>0</td>\n",
       "      <td>never</td>\n",
       "      <td>27.32</td>\n",
       "      <td>5.7</td>\n",
       "      <td>158</td>\n",
       "      <td>0</td>\n",
       "    </tr>\n",
       "    <tr>\n",
       "      <th>3</th>\n",
       "      <td>Female</td>\n",
       "      <td>36.0</td>\n",
       "      <td>0</td>\n",
       "      <td>0</td>\n",
       "      <td>current</td>\n",
       "      <td>23.45</td>\n",
       "      <td>5.0</td>\n",
       "      <td>155</td>\n",
       "      <td>0</td>\n",
       "    </tr>\n",
       "    <tr>\n",
       "      <th>4</th>\n",
       "      <td>Male</td>\n",
       "      <td>76.0</td>\n",
       "      <td>1</td>\n",
       "      <td>1</td>\n",
       "      <td>current</td>\n",
       "      <td>20.14</td>\n",
       "      <td>4.8</td>\n",
       "      <td>155</td>\n",
       "      <td>0</td>\n",
       "    </tr>\n",
       "  </tbody>\n",
       "</table>\n",
       "</div>"
      ],
      "text/plain": [
       "   gender   age  hypertension  heart_disease smoking_history    bmi  \\\n",
       "0  Female  80.0             0              1           never  25.19   \n",
       "1  Female  54.0             0              0         No Info  27.32   \n",
       "2    Male  28.0             0              0           never  27.32   \n",
       "3  Female  36.0             0              0         current  23.45   \n",
       "4    Male  76.0             1              1         current  20.14   \n",
       "\n",
       "   HbA1c_level  blood_glucose_level  diabetes  \n",
       "0          6.6                  140         0  \n",
       "1          6.6                   80         0  \n",
       "2          5.7                  158         0  \n",
       "3          5.0                  155         0  \n",
       "4          4.8                  155         0  "
      ]
     },
     "execution_count": 2,
     "metadata": {},
     "output_type": "execute_result"
    }
   ],
   "source": [
    "df = pd.read_csv(\"diabetes_prediction_dataset.csv\")\n",
    "df.head()"
   ]
  },
  {
   "cell_type": "code",
   "execution_count": 3,
   "id": "0dde0838",
   "metadata": {},
   "outputs": [
    {
     "data": {
      "text/plain": [
       "41.88585600000013"
      ]
     },
     "execution_count": 3,
     "metadata": {},
     "output_type": "execute_result"
    }
   ],
   "source": [
    "age_mean = df[\"age\"].mean()\n",
    "age_mean"
   ]
  },
  {
   "cell_type": "code",
   "execution_count": null,
   "id": "40756313",
   "metadata": {},
   "outputs": [],
   "source": []
  },
  {
   "cell_type": "code",
   "execution_count": 4,
   "id": "3b3f5093",
   "metadata": {},
   "outputs": [
    {
     "name": "stdout",
     "output_type": "stream",
     "text": [
      "41430\n"
     ]
    }
   ],
   "source": [
    "count_male = 0\n",
    "for gender in df[\"gender\"]:\n",
    "    if gender == \"Male\":\n",
    "        count_male += 1\n",
    "print(count_male)"
   ]
  },
  {
   "cell_type": "code",
   "execution_count": 5,
   "id": "c605f09d",
   "metadata": {},
   "outputs": [
    {
     "name": "stdout",
     "output_type": "stream",
     "text": [
      "41430\n",
      "0.4143\n"
     ]
    }
   ],
   "source": [
    "total = len(df)\n",
    "male = df[df['gender'] == 'Male'].shape[0]\n",
    "print(male)\n",
    "P_M = male / total\n",
    "\n",
    "print(P_M)"
   ]
  },
  {
   "cell_type": "code",
   "execution_count": 6,
   "id": "f85c3bee",
   "metadata": {},
   "outputs": [
    {
     "name": "stdout",
     "output_type": "stream",
     "text": [
      "0.085\n"
     ]
    }
   ],
   "source": [
    "total = len(df)\n",
    "diabetes = df[df['diabetes'] == 1].shape[0]\n",
    "\n",
    "P_D = diabetes / total\n",
    "\n",
    "print(P_D)"
   ]
  },
  {
   "cell_type": "code",
   "execution_count": 7,
   "id": "0ad24f70",
   "metadata": {},
   "outputs": [
    {
     "name": "stdout",
     "output_type": "stream",
     "text": [
      "0.4751764705882353\n"
     ]
    }
   ],
   "source": [
    "total = len(df)\n",
    "male_and_diabetes = df[(df['gender'] == 'Male') & (df['diabetes'] == 1)].shape[0]\n",
    "diabetes = df[df['diabetes'] == 1].shape[0]\n",
    "\n",
    "P_M_D = male_and_diabetes / diabetes\n",
    "\n",
    "print(P_M_D)\n"
   ]
  },
  {
   "cell_type": "code",
   "execution_count": null,
   "id": "8061966b",
   "metadata": {},
   "outputs": [],
   "source": []
  },
  {
   "cell_type": "code",
   "execution_count": 8,
   "id": "96028ea5",
   "metadata": {},
   "outputs": [
    {
     "data": {
      "text/plain": [
       "0.0974897417330437"
      ]
     },
     "execution_count": 8,
     "metadata": {},
     "output_type": "execute_result"
    }
   ],
   "source": [
    "P_D_M = (P_M_D * P_D)/P_M\n",
    "P_D_M"
   ]
  },
  {
   "cell_type": "code",
   "execution_count": 9,
   "id": "cca59ec0",
   "metadata": {},
   "outputs": [
    {
     "name": "stdout",
     "output_type": "stream",
     "text": [
      "0.09748974173304369\n"
     ]
    }
   ],
   "source": [
    "total = len(df)\n",
    "P_M_D =  male_and_diabetes / male\n",
    "\n",
    "print(P_M_D)\n"
   ]
  },
  {
   "cell_type": "code",
   "execution_count": 10,
   "id": "85ce8606",
   "metadata": {},
   "outputs": [
    {
     "data": {
      "text/plain": [
       "41.88585600000013"
      ]
     },
     "execution_count": 10,
     "metadata": {},
     "output_type": "execute_result"
    }
   ],
   "source": [
    "age_mean"
   ]
  },
  {
   "cell_type": "code",
   "execution_count": 11,
   "id": "2329eae4",
   "metadata": {},
   "outputs": [
    {
     "data": {
      "text/plain": [
       "22.51683987161513"
      ]
     },
     "execution_count": 11,
     "metadata": {},
     "output_type": "execute_result"
    }
   ],
   "source": [
    "std_age = df[\"age\"].std()\n",
    "std_age"
   ]
  },
  {
   "cell_type": "code",
   "execution_count": 39,
   "id": "97297028",
   "metadata": {},
   "outputs": [
    {
     "data": {
      "image/png": "[encoded data removed]",
      "text/plain": [
       "<Figure size 432x288 with 1 Axes>"
      ]
     },
     "metadata": {
      "needs_background": "light"
     },
     "output_type": "display_data"
    }
   ],
   "source": [
    "x_axis = np.arange(age_mean-40, age_mean+45)\n",
    "plt.plot(x_axis, norm.pdf(x_axis, age_mean, std_age)) \n",
    "plt.show() "
   ]
  },
  {
   "cell_type": "code",
   "execution_count": 14,
   "id": "d339ba18",
   "metadata": {},
   "outputs": [
    {
     "data": {
      "text/plain": [
       "27.32076709999422"
      ]
     },
     "execution_count": 14,
     "metadata": {},
     "output_type": "execute_result"
    }
   ],
   "source": [
    "mean_bmi = df[\"bmi\"].mean()\n",
    "mean_bmi"
   ]
  },
  {
   "cell_type": "code",
   "execution_count": 15,
   "id": "19448d4d",
   "metadata": {},
   "outputs": [
    {
     "data": {
      "text/plain": [
       "6.636783416649581"
      ]
     },
     "execution_count": 15,
     "metadata": {},
     "output_type": "execute_result"
    }
   ],
   "source": [
    "std_bmi = df[\"bmi\"].std()\n",
    "std_bmi"
   ]
  },
  {
   "cell_type": "code",
   "execution_count": 18,
   "id": "869127d9",
   "metadata": {},
   "outputs": [
    {
     "data": {
      "image/png": "[encoded data removed]",
      "text/plain": [
       "<Figure size 432x288 with 1 Axes>"
      ]
     },
     "metadata": {
      "needs_background": "light"
     },
     "output_type": "display_data"
    }
   ],
   "source": [
    "x_axis = np.arange(20-mean_bmi, mean_bmi+20)\n",
    "plt.plot(x_axis, norm.pdf(x_axis, mean_bmi, std_bmi)) \n",
    "plt.show() "
   ]
  },
  {
   "cell_type": "code",
   "execution_count": 19,
   "id": "35349865",
   "metadata": {},
   "outputs": [
    {
     "data": {
      "text/plain": [
       "5.5275069999983275"
      ]
     },
     "execution_count": 19,
     "metadata": {},
     "output_type": "execute_result"
    }
   ],
   "source": [
    "HB_mean = df[\"HbA1c_level\"].mean()\n",
    "HB_mean"
   ]
  },
  {
   "cell_type": "code",
   "execution_count": 20,
   "id": "dca4cd9e",
   "metadata": {},
   "outputs": [
    {
     "data": {
      "text/plain": [
       "1.0706720918832282"
      ]
     },
     "execution_count": 20,
     "metadata": {},
     "output_type": "execute_result"
    }
   ],
   "source": [
    "HB_std = df[\"HbA1c_level\"].std()\n",
    "HB_std"
   ]
  },
  {
   "cell_type": "code",
   "execution_count": 21,
   "id": "016854a4",
   "metadata": {},
   "outputs": [
    {
     "data": {
      "image/png": "[encoded data removed]",
      "text/plain": [
       "<Figure size 432x288 with 1 Axes>"
      ]
     },
     "metadata": {
      "needs_background": "light"
     },
     "output_type": "display_data"
    }
   ],
   "source": [
    "x_axis = np.arange(4-HB_mean, HB_mean+4)\n",
    "plt.plot(x_axis, norm.pdf(x_axis, HB_mean, HB_std)) \n",
    "plt.show() "
   ]
  },
  {
   "cell_type": "code",
   "execution_count": 22,
   "id": "ff6915a5",
   "metadata": {},
   "outputs": [
    {
     "data": {
      "text/plain": [
       "138.05806"
      ]
     },
     "execution_count": 22,
     "metadata": {},
     "output_type": "execute_result"
    }
   ],
   "source": [
    "gulucose_mean = df[\"blood_glucose_level\"].mean()\n",
    "gulucose_mean"
   ]
  },
  {
   "cell_type": "code",
   "execution_count": 23,
   "id": "481f8b12",
   "metadata": {},
   "outputs": [
    {
     "data": {
      "text/plain": [
       "40.70813604870113"
      ]
     },
     "execution_count": 23,
     "metadata": {},
     "output_type": "execute_result"
    }
   ],
   "source": [
    "gulocose_std = df[\"blood_glucose_level\"].std()\n",
    "gulocose_std"
   ]
  },
  {
   "cell_type": "code",
   "execution_count": 24,
   "id": "4060fd35",
   "metadata": {},
   "outputs": [
    {
     "data": {
      "image/png": "[encoded data removed]",
      "text/plain": [
       "<Figure size 432x288 with 1 Axes>"
      ]
     },
     "metadata": {
      "needs_background": "light"
     },
     "output_type": "display_data"
    }
   ],
   "source": [
    "x_axis = np.arange(130-gulucose_mean, gulucose_mean+130)\n",
    "plt.plot(x_axis, norm.pdf(x_axis, gulucose_mean, gulocose_std)) \n",
    "plt.show() "
   ]
  },
  {
   "cell_type": "code",
   "execution_count": 25,
   "id": "da0a4c3f",
   "metadata": {},
   "outputs": [
    {
     "data": {
      "text/html": [
       "<div>\n",
       "<style scoped>\n",
       "    .dataframe tbody tr th:only-of-type {\n",
       "        vertical-align: middle;\n",
       "    }\n",
       "\n",
       "    .dataframe tbody tr th {\n",
       "        vertical-align: top;\n",
       "    }\n",
       "\n",
       "    .dataframe thead th {\n",
       "        text-align: right;\n",
       "    }\n",
       "</style>\n",
       "<table border=\"1\" class=\"dataframe\">\n",
       "  <thead>\n",
       "    <tr style=\"text-align: right;\">\n",
       "      <th></th>\n",
       "      <th>age</th>\n",
       "      <th>bmi</th>\n",
       "      <th>HbA1c_level</th>\n",
       "      <th>blood_glucose_level</th>\n",
       "    </tr>\n",
       "  </thead>\n",
       "  <tbody>\n",
       "    <tr>\n",
       "      <th>age</th>\n",
       "      <td>1.000000</td>\n",
       "      <td>0.337396</td>\n",
       "      <td>0.101354</td>\n",
       "      <td>0.110672</td>\n",
       "    </tr>\n",
       "    <tr>\n",
       "      <th>bmi</th>\n",
       "      <td>0.337396</td>\n",
       "      <td>1.000000</td>\n",
       "      <td>0.082997</td>\n",
       "      <td>0.091261</td>\n",
       "    </tr>\n",
       "    <tr>\n",
       "      <th>HbA1c_level</th>\n",
       "      <td>0.101354</td>\n",
       "      <td>0.082997</td>\n",
       "      <td>1.000000</td>\n",
       "      <td>0.166733</td>\n",
       "    </tr>\n",
       "    <tr>\n",
       "      <th>blood_glucose_level</th>\n",
       "      <td>0.110672</td>\n",
       "      <td>0.091261</td>\n",
       "      <td>0.166733</td>\n",
       "      <td>1.000000</td>\n",
       "    </tr>\n",
       "  </tbody>\n",
       "</table>\n",
       "</div>"
      ],
      "text/plain": [
       "                          age       bmi  HbA1c_level  blood_glucose_level\n",
       "age                  1.000000  0.337396     0.101354             0.110672\n",
       "bmi                  0.337396  1.000000     0.082997             0.091261\n",
       "HbA1c_level          0.101354  0.082997     1.000000             0.166733\n",
       "blood_glucose_level  0.110672  0.091261     0.166733             1.000000"
      ]
     },
     "execution_count": 25,
     "metadata": {},
     "output_type": "execute_result"
    }
   ],
   "source": [
    "df[[\"age\", \"bmi\", \"HbA1c_level\", \"blood_glucose_level\"]].corr()"
   ]
  },
  {
   "cell_type": "code",
   "execution_count": 26,
   "id": "8141f6b3",
   "metadata": {},
   "outputs": [
    {
     "data": {
      "text/html": [
       "<div>\n",
       "<style scoped>\n",
       "    .dataframe tbody tr th:only-of-type {\n",
       "        vertical-align: middle;\n",
       "    }\n",
       "\n",
       "    .dataframe tbody tr th {\n",
       "        vertical-align: top;\n",
       "    }\n",
       "\n",
       "    .dataframe thead th {\n",
       "        text-align: right;\n",
       "    }\n",
       "</style>\n",
       "<table border=\"1\" class=\"dataframe\">\n",
       "  <thead>\n",
       "    <tr style=\"text-align: right;\">\n",
       "      <th></th>\n",
       "      <th>age</th>\n",
       "      <th>bmi</th>\n",
       "      <th>HbA1c_level</th>\n",
       "      <th>blood_glucose_level</th>\n",
       "    </tr>\n",
       "  </thead>\n",
       "  <tbody>\n",
       "    <tr>\n",
       "      <th>age</th>\n",
       "      <td>507.008078</td>\n",
       "      <td>50.420219</td>\n",
       "      <td>2.443449</td>\n",
       "      <td>101.444257</td>\n",
       "    </tr>\n",
       "    <tr>\n",
       "      <th>bmi</th>\n",
       "      <td>50.420219</td>\n",
       "      <td>44.046894</td>\n",
       "      <td>0.589763</td>\n",
       "      <td>24.656192</td>\n",
       "    </tr>\n",
       "    <tr>\n",
       "      <th>HbA1c_level</th>\n",
       "      <td>2.443449</td>\n",
       "      <td>0.589763</td>\n",
       "      <td>1.146339</td>\n",
       "      <td>7.267066</td>\n",
       "    </tr>\n",
       "    <tr>\n",
       "      <th>blood_glucose_level</th>\n",
       "      <td>101.444257</td>\n",
       "      <td>24.656192</td>\n",
       "      <td>7.267066</td>\n",
       "      <td>1657.152341</td>\n",
       "    </tr>\n",
       "  </tbody>\n",
       "</table>\n",
       "</div>"
      ],
      "text/plain": [
       "                            age        bmi  HbA1c_level  blood_glucose_level\n",
       "age                  507.008078  50.420219     2.443449           101.444257\n",
       "bmi                   50.420219  44.046894     0.589763            24.656192\n",
       "HbA1c_level            2.443449   0.589763     1.146339             7.267066\n",
       "blood_glucose_level  101.444257  24.656192     7.267066          1657.152341"
      ]
     },
     "execution_count": 26,
     "metadata": {},
     "output_type": "execute_result"
    }
   ],
   "source": [
    "df[[\"age\", \"bmi\", \"HbA1c_level\", \"blood_glucose_level\"]].cov()"
   ]
  },
  {
   "cell_type": "code",
   "execution_count": 28,
   "id": "5820772a",
   "metadata": {},
   "outputs": [
    {
     "data": {
      "text/html": [
       "<div>\n",
       "<style scoped>\n",
       "    .dataframe tbody tr th:only-of-type {\n",
       "        vertical-align: middle;\n",
       "    }\n",
       "\n",
       "    .dataframe tbody tr th {\n",
       "        vertical-align: top;\n",
       "    }\n",
       "\n",
       "    .dataframe thead th {\n",
       "        text-align: right;\n",
       "    }\n",
       "</style>\n",
       "<table border=\"1\" class=\"dataframe\">\n",
       "  <thead>\n",
       "    <tr style=\"text-align: right;\">\n",
       "      <th></th>\n",
       "      <th>gender</th>\n",
       "      <th>age</th>\n",
       "      <th>hypertension</th>\n",
       "      <th>heart_disease</th>\n",
       "      <th>smoking_history</th>\n",
       "      <th>bmi</th>\n",
       "      <th>HbA1c_level</th>\n",
       "      <th>blood_glucose_level</th>\n",
       "      <th>diabetes</th>\n",
       "    </tr>\n",
       "  </thead>\n",
       "  <tbody>\n",
       "    <tr>\n",
       "      <th>6</th>\n",
       "      <td>Female</td>\n",
       "      <td>44.0</td>\n",
       "      <td>0</td>\n",
       "      <td>0</td>\n",
       "      <td>never</td>\n",
       "      <td>19.31</td>\n",
       "      <td>6.5</td>\n",
       "      <td>200</td>\n",
       "      <td>1</td>\n",
       "    </tr>\n",
       "    <tr>\n",
       "      <th>26</th>\n",
       "      <td>Male</td>\n",
       "      <td>67.0</td>\n",
       "      <td>0</td>\n",
       "      <td>1</td>\n",
       "      <td>not current</td>\n",
       "      <td>27.32</td>\n",
       "      <td>6.5</td>\n",
       "      <td>200</td>\n",
       "      <td>1</td>\n",
       "    </tr>\n",
       "    <tr>\n",
       "      <th>38</th>\n",
       "      <td>Male</td>\n",
       "      <td>50.0</td>\n",
       "      <td>1</td>\n",
       "      <td>0</td>\n",
       "      <td>current</td>\n",
       "      <td>27.32</td>\n",
       "      <td>5.7</td>\n",
       "      <td>260</td>\n",
       "      <td>1</td>\n",
       "    </tr>\n",
       "    <tr>\n",
       "      <th>40</th>\n",
       "      <td>Male</td>\n",
       "      <td>73.0</td>\n",
       "      <td>0</td>\n",
       "      <td>0</td>\n",
       "      <td>former</td>\n",
       "      <td>25.91</td>\n",
       "      <td>9.0</td>\n",
       "      <td>160</td>\n",
       "      <td>1</td>\n",
       "    </tr>\n",
       "    <tr>\n",
       "      <th>53</th>\n",
       "      <td>Female</td>\n",
       "      <td>53.0</td>\n",
       "      <td>0</td>\n",
       "      <td>0</td>\n",
       "      <td>former</td>\n",
       "      <td>27.32</td>\n",
       "      <td>7.0</td>\n",
       "      <td>159</td>\n",
       "      <td>1</td>\n",
       "    </tr>\n",
       "  </tbody>\n",
       "</table>\n",
       "</div>"
      ],
      "text/plain": [
       "    gender   age  hypertension  heart_disease smoking_history    bmi  \\\n",
       "6   Female  44.0             0              0           never  19.31   \n",
       "26    Male  67.0             0              1     not current  27.32   \n",
       "38    Male  50.0             1              0         current  27.32   \n",
       "40    Male  73.0             0              0          former  25.91   \n",
       "53  Female  53.0             0              0          former  27.32   \n",
       "\n",
       "    HbA1c_level  blood_glucose_level  diabetes  \n",
       "6           6.5                  200         1  \n",
       "26          6.5                  200         1  \n",
       "38          5.7                  260         1  \n",
       "40          9.0                  160         1  \n",
       "53          7.0                  159         1  "
      ]
     },
     "execution_count": 28,
     "metadata": {},
     "output_type": "execute_result"
    }
   ],
   "source": [
    "diabetes_df = df[df['diabetes'] == 1]\n",
    "diabetes_df.head()"
   ]
  },
  {
   "cell_type": "code",
   "execution_count": 66,
   "id": "9640e212",
   "metadata": {},
   "outputs": [
    {
     "data": {
      "text/html": [
       "<div>\n",
       "<style scoped>\n",
       "    .dataframe tbody tr th:only-of-type {\n",
       "        vertical-align: middle;\n",
       "    }\n",
       "\n",
       "    .dataframe tbody tr th {\n",
       "        vertical-align: top;\n",
       "    }\n",
       "\n",
       "    .dataframe thead th {\n",
       "        text-align: right;\n",
       "    }\n",
       "</style>\n",
       "<table border=\"1\" class=\"dataframe\">\n",
       "  <thead>\n",
       "    <tr style=\"text-align: right;\">\n",
       "      <th></th>\n",
       "      <th>gender</th>\n",
       "      <th>age</th>\n",
       "      <th>hypertension</th>\n",
       "      <th>heart_disease</th>\n",
       "      <th>smoking_history</th>\n",
       "      <th>bmi</th>\n",
       "      <th>HbA1c_level</th>\n",
       "      <th>blood_glucose_level</th>\n",
       "      <th>diabetes</th>\n",
       "    </tr>\n",
       "  </thead>\n",
       "  <tbody>\n",
       "    <tr>\n",
       "      <th>0</th>\n",
       "      <td>Female</td>\n",
       "      <td>80.0</td>\n",
       "      <td>0</td>\n",
       "      <td>1</td>\n",
       "      <td>never</td>\n",
       "      <td>25.19</td>\n",
       "      <td>6.6</td>\n",
       "      <td>140</td>\n",
       "      <td>0</td>\n",
       "    </tr>\n",
       "    <tr>\n",
       "      <th>1</th>\n",
       "      <td>Female</td>\n",
       "      <td>54.0</td>\n",
       "      <td>0</td>\n",
       "      <td>0</td>\n",
       "      <td>No Info</td>\n",
       "      <td>27.32</td>\n",
       "      <td>6.6</td>\n",
       "      <td>80</td>\n",
       "      <td>0</td>\n",
       "    </tr>\n",
       "    <tr>\n",
       "      <th>2</th>\n",
       "      <td>Male</td>\n",
       "      <td>28.0</td>\n",
       "      <td>0</td>\n",
       "      <td>0</td>\n",
       "      <td>never</td>\n",
       "      <td>27.32</td>\n",
       "      <td>5.7</td>\n",
       "      <td>158</td>\n",
       "      <td>0</td>\n",
       "    </tr>\n",
       "    <tr>\n",
       "      <th>3</th>\n",
       "      <td>Female</td>\n",
       "      <td>36.0</td>\n",
       "      <td>0</td>\n",
       "      <td>0</td>\n",
       "      <td>current</td>\n",
       "      <td>23.45</td>\n",
       "      <td>5.0</td>\n",
       "      <td>155</td>\n",
       "      <td>0</td>\n",
       "    </tr>\n",
       "    <tr>\n",
       "      <th>4</th>\n",
       "      <td>Male</td>\n",
       "      <td>76.0</td>\n",
       "      <td>1</td>\n",
       "      <td>1</td>\n",
       "      <td>current</td>\n",
       "      <td>20.14</td>\n",
       "      <td>4.8</td>\n",
       "      <td>155</td>\n",
       "      <td>0</td>\n",
       "    </tr>\n",
       "  </tbody>\n",
       "</table>\n",
       "</div>"
      ],
      "text/plain": [
       "   gender   age  hypertension  heart_disease smoking_history    bmi  \\\n",
       "0  Female  80.0             0              1           never  25.19   \n",
       "1  Female  54.0             0              0         No Info  27.32   \n",
       "2    Male  28.0             0              0           never  27.32   \n",
       "3  Female  36.0             0              0         current  23.45   \n",
       "4    Male  76.0             1              1         current  20.14   \n",
       "\n",
       "   HbA1c_level  blood_glucose_level  diabetes  \n",
       "0          6.6                  140         0  \n",
       "1          6.6                   80         0  \n",
       "2          5.7                  158         0  \n",
       "3          5.0                  155         0  \n",
       "4          4.8                  155         0  "
      ]
     },
     "execution_count": 66,
     "metadata": {},
     "output_type": "execute_result"
    }
   ],
   "source": [
    "non_diabetes_df = df[df['diabetes'] == 0]\n",
    "non_diabetes_df.head()"
   ]
  },
  {
   "cell_type": "code",
   "execution_count": 45,
   "id": "017981e5",
   "metadata": {},
   "outputs": [
    {
     "data": {
      "text/plain": [
       "array([ 60.94658824,  31.98838235,   6.93495294, 194.09470588])"
      ]
     },
     "execution_count": 45,
     "metadata": {},
     "output_type": "execute_result"
    }
   ],
   "source": [
    "diabetes_mean = diabetes_df[[\"age\",\"bmi\",\"HbA1c_level\",\"blood_glucose_level\"]].mean().values\n",
    "diabetes_mean"
   ]
  },
  {
   "cell_type": "code",
   "execution_count": 68,
   "id": "5055ad48",
   "metadata": {},
   "outputs": [
    {
     "data": {
      "text/plain": [
       "array([ 40.11518689,  26.8871635 ,   5.39676066, 132.85246995])"
      ]
     },
     "execution_count": 68,
     "metadata": {},
     "output_type": "execute_result"
    }
   ],
   "source": [
    "non_diabetes_mean = non_diabetes_df[[\"age\",\"bmi\",\"HbA1c_level\",\"blood_glucose_level\"]].mean().values\n",
    "non_diabetes_mean"
   ]
  },
  {
   "cell_type": "code",
   "execution_count": 53,
   "id": "d066b956",
   "metadata": {},
   "outputs": [
    {
     "data": {
      "text/plain": [
       "array([[ 2.11698994e+02, -1.58240163e+01,  5.16162317e-03,\n",
       "         1.27411456e+01],\n",
       "       [-1.58240163e+01,  5.71289670e+01, -1.29553288e-01,\n",
       "         9.85119685e-01],\n",
       "       [ 5.16162317e-03, -1.29553288e-01,  1.15898641e+00,\n",
       "        -6.06958127e-01],\n",
       "       [ 1.27411456e+01,  9.85119685e-01, -6.06958127e-01,\n",
       "         3.43877995e+03]])"
      ]
     },
     "execution_count": 53,
     "metadata": {},
     "output_type": "execute_result"
    }
   ],
   "source": [
    "diabetes_cov = diabetes_df[[\"age\",\"bmi\",\"HbA1c_level\",\"blood_glucose_level\"]].cov().values\n",
    "diabetes_cov"
   ]
  },
  {
   "cell_type": "code",
   "execution_count": 102,
   "id": "5b731de3",
   "metadata": {},
   "outputs": [
    {
     "data": {
      "text/plain": [
       "array([[ 4.97557853e+02,  4.75412798e+01, -5.36997192e-02,\n",
       "         1.24374504e+00],\n",
       "       [ 4.75412798e+01,  4.06202996e+01, -1.03891927e-02,\n",
       "         3.00034099e-01],\n",
       "       [-5.36997192e-02, -1.03891927e-02,  9.44061245e-01,\n",
       "        -8.75231323e-03],\n",
       "       [ 1.24374504e+00,  3.00034099e-01, -8.75231323e-03,\n",
       "         1.17287627e+03]])"
      ]
     },
     "execution_count": 102,
     "metadata": {},
     "output_type": "execute_result"
    }
   ],
   "source": [
    "non_diabetes_cov = non_diabetes_df[[\"age\",\"bmi\",\"HbA1c_level\",\"blood_glucose_level\"]].cov().values\n",
    "non_diabetes_cov"
   ]
  },
  {
   "cell_type": "code",
   "execution_count": 103,
   "id": "d5353dca",
   "metadata": {},
   "outputs": [],
   "source": [
    "# sample = diabetes_df[[\"age\",\"bmi\",\"HbA1c_level\",\"blood_glucose_level\"]].values\n",
    "# sample"
   ]
  },
  {
   "cell_type": "code",
   "execution_count": 126,
   "id": "c523364d",
   "metadata": {},
   "outputs": [],
   "source": [
    "obs = [67,27.32,6.5,200]"
   ]
  },
  {
   "cell_type": "code",
   "execution_count": 119,
   "id": "21a41553",
   "metadata": {},
   "outputs": [
    {
     "data": {
      "text/plain": [
       "2.6378211697247485e-06"
      ]
     },
     "execution_count": 119,
     "metadata": {},
     "output_type": "execute_result"
    }
   ],
   "source": [
    "from scipy.stats import multivariate_normal\n",
    "diab1 = multivariate_normal.pdf(obs,diabetes_mean,diabetes_cov)\n",
    "diab1"
   ]
  },
  {
   "cell_type": "code",
   "execution_count": 120,
   "id": "4cbbf092",
   "metadata": {},
   "outputs": [
    {
     "data": {
      "text/plain": [
       "1.9800728095389856e-07"
      ]
     },
     "execution_count": 120,
     "metadata": {},
     "output_type": "execute_result"
    }
   ],
   "source": [
    "from scipy.stats import multivariate_normal\n",
    "diab0 = multivariate_normal.pdf(obs,non_diabetes_mean,non_diabetes_cov)\n",
    "diab0"
   ]
  },
  {
   "cell_type": "code",
   "execution_count": 121,
   "id": "4d80f6db",
   "metadata": {},
   "outputs": [
    {
     "name": "stdout",
     "output_type": "stream",
     "text": [
      "0.085\n"
     ]
    }
   ],
   "source": [
    "total = len(df)\n",
    "diabetes = df[df['diabetes'] == 1].shape[0]\n",
    "\n",
    "P_D = diabetes / total\n",
    "\n",
    "print(P_D)"
   ]
  },
  {
   "cell_type": "code",
   "execution_count": 122,
   "id": "378186df",
   "metadata": {},
   "outputs": [
    {
     "name": "stdout",
     "output_type": "stream",
     "text": [
      "0.915\n"
     ]
    }
   ],
   "source": [
    "total = len(df)\n",
    "diabetes = df[df['diabetes'] == 0].shape[0]\n",
    "\n",
    "P_D_1 = diabetes / total\n",
    "\n",
    "print(P_D_1)"
   ]
  },
  {
   "cell_type": "code",
   "execution_count": 123,
   "id": "96835dc2",
   "metadata": {},
   "outputs": [
    {
     "data": {
      "text/plain": [
       "1.2375479096556534"
      ]
     },
     "execution_count": 123,
     "metadata": {},
     "output_type": "execute_result"
    }
   ],
   "source": [
    "ans = (diab1*P_D)/(diab0*P_D_1)\n",
    "ans"
   ]
  },
  {
   "cell_type": "code",
   "execution_count": 124,
   "id": "8a9dcb41",
   "metadata": {},
   "outputs": [
    {
     "name": "stdout",
     "output_type": "stream",
     "text": [
      "Diabetes\n"
     ]
    }
   ],
   "source": [
    "if ans > 1:\n",
    "    print(\"Diabetes\")\n",
    "else:\n",
    "    print(\"Non Diabetes\")"
   ]
  },
  {
   "cell_type": "code",
   "execution_count": 125,
   "id": "872ffa99",
   "metadata": {},
   "outputs": [
    {
     "data": {
      "text/html": [
       "<div>\n",
       "<style scoped>\n",
       "    .dataframe tbody tr th:only-of-type {\n",
       "        vertical-align: middle;\n",
       "    }\n",
       "\n",
       "    .dataframe tbody tr th {\n",
       "        vertical-align: top;\n",
       "    }\n",
       "\n",
       "    .dataframe thead th {\n",
       "        text-align: right;\n",
       "    }\n",
       "</style>\n",
       "<table border=\"1\" class=\"dataframe\">\n",
       "  <thead>\n",
       "    <tr style=\"text-align: right;\">\n",
       "      <th></th>\n",
       "      <th>gender</th>\n",
       "      <th>age</th>\n",
       "      <th>hypertension</th>\n",
       "      <th>heart_disease</th>\n",
       "      <th>smoking_history</th>\n",
       "      <th>bmi</th>\n",
       "      <th>HbA1c_level</th>\n",
       "      <th>blood_glucose_level</th>\n",
       "      <th>diabetes</th>\n",
       "    </tr>\n",
       "  </thead>\n",
       "  <tbody>\n",
       "    <tr>\n",
       "      <th>99995</th>\n",
       "      <td>Female</td>\n",
       "      <td>80.0</td>\n",
       "      <td>0</td>\n",
       "      <td>0</td>\n",
       "      <td>No Info</td>\n",
       "      <td>27.32</td>\n",
       "      <td>6.2</td>\n",
       "      <td>90</td>\n",
       "      <td>0</td>\n",
       "    </tr>\n",
       "    <tr>\n",
       "      <th>99996</th>\n",
       "      <td>Female</td>\n",
       "      <td>2.0</td>\n",
       "      <td>0</td>\n",
       "      <td>0</td>\n",
       "      <td>No Info</td>\n",
       "      <td>17.37</td>\n",
       "      <td>6.5</td>\n",
       "      <td>100</td>\n",
       "      <td>0</td>\n",
       "    </tr>\n",
       "    <tr>\n",
       "      <th>99997</th>\n",
       "      <td>Male</td>\n",
       "      <td>66.0</td>\n",
       "      <td>0</td>\n",
       "      <td>0</td>\n",
       "      <td>former</td>\n",
       "      <td>27.83</td>\n",
       "      <td>5.7</td>\n",
       "      <td>155</td>\n",
       "      <td>0</td>\n",
       "    </tr>\n",
       "    <tr>\n",
       "      <th>99998</th>\n",
       "      <td>Female</td>\n",
       "      <td>24.0</td>\n",
       "      <td>0</td>\n",
       "      <td>0</td>\n",
       "      <td>never</td>\n",
       "      <td>35.42</td>\n",
       "      <td>4.0</td>\n",
       "      <td>100</td>\n",
       "      <td>0</td>\n",
       "    </tr>\n",
       "    <tr>\n",
       "      <th>99999</th>\n",
       "      <td>Female</td>\n",
       "      <td>57.0</td>\n",
       "      <td>0</td>\n",
       "      <td>0</td>\n",
       "      <td>current</td>\n",
       "      <td>22.43</td>\n",
       "      <td>6.6</td>\n",
       "      <td>90</td>\n",
       "      <td>0</td>\n",
       "    </tr>\n",
       "  </tbody>\n",
       "</table>\n",
       "</div>"
      ],
      "text/plain": [
       "       gender   age  hypertension  heart_disease smoking_history    bmi  \\\n",
       "99995  Female  80.0             0              0         No Info  27.32   \n",
       "99996  Female   2.0             0              0         No Info  17.37   \n",
       "99997    Male  66.0             0              0          former  27.83   \n",
       "99998  Female  24.0             0              0           never  35.42   \n",
       "99999  Female  57.0             0              0         current  22.43   \n",
       "\n",
       "       HbA1c_level  blood_glucose_level  diabetes  \n",
       "99995          6.2                   90         0  \n",
       "99996          6.5                  100         0  \n",
       "99997          5.7                  155         0  \n",
       "99998          4.0                  100         0  \n",
       "99999          6.6                   90         0  "
      ]
     },
     "execution_count": 125,
     "metadata": {},
     "output_type": "execute_result"
    }
   ],
   "source": [
    "non_diabetes_df.tail()"
   ]
  }
 ],
 "metadata": {
  "kernelspec": {
   "display_name": "Python 3 (ipykernel)",
   "language": "python",
   "name": "python3"
  },
  "language_info": {
   "codemirror_mode": {
    "name": "ipython",
    "version": 3
   },
   "file_extension": ".py",
   "mimetype": "text/x-python",
   "name": "python",
   "nbconvert_exporter": "python",
   "pygments_lexer": "ipython3",
   "version": "3.9.7"
  }
 },
 "nbformat": 4,
 "nbformat_minor": 5
}
