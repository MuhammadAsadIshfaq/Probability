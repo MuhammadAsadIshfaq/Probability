{
 "cells": [
  {
   "cell_type": "code",
   "execution_count": 17,
   "metadata": {},
   "outputs": [
    {
     "data": {
      "image/png": "[encoded data removed]",
      "text/plain": [
       "<Figure size 432x288 with 1 Axes>"
      ]
     },
     "metadata": {
      "needs_background": "light"
     },
     "output_type": "display_data"
    }
   ],
   "source": [
    "import json\n",
    "from scipy import stats\n",
    "import math\n",
    "import matplotlib.pyplot as plt\n",
    "\n",
    "historical_c14_delta = None\n",
    "C14_MEAN_LIFE = 8267\n",
    "MIN_AGE = 400\n",
    "MAX_AGE = 1200\n",
    "\n",
    "def main():\n",
    "    belief = inference(900)\n",
    "    #print(belief[850])\n",
    "    #print(belief[753])\n",
    "    plot_belief(belief)\n",
    "    \n",
    "def inference(m):\n",
    "    \"\"\"\n",
    "    Returns a dictionary A, where A[i] contains the \n",
    "    corresponding probability, P(A = i| M = m).\n",
    "    m is the number of C14 molecules remaining and i \n",
    "    is age in years. i is in the range 100 to MAX_AGE\n",
    "    \"\"\"\n",
    "    A = {}\n",
    "    n_years = MAX_AGE - MIN_AGE + 1\n",
    "    for i in range(MIN_AGE,MAX_AGE+1):\n",
    "        A[i] = calc_likelihood(m, i)  # P(M = m | A = i)\n",
    "    # implicitly computes the normalization constant\n",
    "    normalize(A)\n",
    "    return A\n",
    "\n",
    "def calc_likelihood(m, age):\n",
    "    \"\"\"\n",
    "    Computes P(M = m | A = age), the probability of\n",
    "    having m molecules left given the sample is age\n",
    "    years old. Uses the exponential decay of C14\n",
    "    \"\"\"\n",
    "    n_original = 1000 + delta_start(age)\n",
    "    #n_original = 1000\n",
    "    p_remain = math.exp(-age/C14_MEAN_LIFE)\n",
    "    return stats.binom.pmf(m, n_original, p_remain)\n",
    "\n",
    "def normalize(prob_dict):\n",
    "    # first compute the sum of the probability\n",
    "    sum = 0\n",
    "    for key, pr in prob_dict.items():\n",
    "        sum += pr\n",
    "    # then divide each probability by that sum\n",
    "    for key, pr in prob_dict.items():\n",
    "        prob_dict[key] = pr / sum\n",
    "    #print(sum) \n",
    "    # now the probabilities sum to 1 (aka are normalized)\n",
    "\n",
    "def delta_start(age):\n",
    "    \"\"\"\n",
    "    The amount of atmospheric C14 is not the same every\n",
    "    year. If the sample died \"age\" years ago, then it would\n",
    "    have started with slightly more, or slightly less than\n",
    "    1000 C14 molecules. We can look this value up from the\n",
    "    IntCal database. See the next section!\n",
    "    \"\"\"\n",
    "    if not historical_c14_delta:\n",
    "        load_c14_delta()\n",
    "    return int(round(historical_c14_delta[age]))\n",
    "\n",
    "def load_c14_delta():\n",
    "    global historical_c14_delta\n",
    "    raw = json.load(open('historical_c14.json'))\n",
    "    historical_c14_delta = {}\n",
    "    for age, value in raw.items():\n",
    "        historical_c14_delta[int(age)] = float(value['deltaC14'])\n",
    "#     print(historical_c14_delta)\n",
    "\n",
    "def plot_belief(belief):\n",
    "    # Extract keys and values from the dictionary\n",
    "    x = list(belief.keys())\n",
    "    y = list(belief.values())\n",
    "    \n",
    "    # Create a bar chart (you can use different types of plots as needed)\n",
    "    plt.bar(x, y,width=1)\n",
    "\n",
    "    # Add labels and title\n",
    "    plt.xlabel('age')\n",
    "    plt.ylabel('P(A = age)')\n",
    "\n",
    "    # Show the plot\n",
    "    plt.show()\n",
    "\n",
    "if __name__ == '__main__':\n",
    "  main()"
   ]
  },
  {
   "cell_type": "code",
   "execution_count": null,
   "metadata": {},
   "outputs": [],
   "source": []
  },
  {
   "cell_type": "code",
   "execution_count": null,
   "metadata": {},
   "outputs": [],
   "source": []
  }
 ],
 "metadata": {
  "kernelspec": {
   "display_name": "Python 3 (ipykernel)",
   "language": "python",
   "name": "python3"
  },
  "language_info": {
   "codemirror_mode": {
    "name": "ipython",
    "version": 3
   },
   "file_extension": ".py",
   "mimetype": "text/x-python",
   "name": "python",
   "nbconvert_exporter": "python",
   "pygments_lexer": "ipython3",
   "version": "3.9.7"
  }
 },
 "nbformat": 4,
 "nbformat_minor": 4
}
